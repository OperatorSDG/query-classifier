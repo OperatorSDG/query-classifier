{
 "cells": [
  {
   "cell_type": "code",
   "execution_count": 1,
   "id": "4b92cb6f",
   "metadata": {},
   "outputs": [
    {
     "name": "stdout",
     "output_type": "stream",
     "text": [
      "Removed 1 duplicates. New total: 228 queries.\n"
     ]
    }
   ],
   "source": [
    "import pandas as pd\n",
    "\n",
    "# Load the CSV\n",
    "df = pd.read_csv(\"labeled-queries.csv\")\n",
    "\n",
    "# Remove duplicates based on the 'query' column, keeping the first occurrence\n",
    "df_clean = df.drop_duplicates(subset=[\"query\"], keep=\"first\")\n",
    "\n",
    "# Save back to CSV (overwrite original)\n",
    "df_clean.to_csv(\"labeled-queries.csv\", index=False)\n",
    "\n",
    "print(f\"Removed {len(df) - len(df_clean)} duplicates. New total: {len(df_clean)} queries.\")"
   ]
  }
 ],
 "metadata": {
  "kernelspec": {
   "display_name": "Python 3",
   "language": "python",
   "name": "python3"
  },
  "language_info": {
   "codemirror_mode": {
    "name": "ipython",
    "version": 3
   },
   "file_extension": ".py",
   "mimetype": "text/x-python",
   "name": "python",
   "nbconvert_exporter": "python",
   "pygments_lexer": "ipython3",
   "version": "3.10.16"
  }
 },
 "nbformat": 4,
 "nbformat_minor": 5
}
